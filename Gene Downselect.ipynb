{
 "cells": [
  {
   "cell_type": "code",
   "execution_count": 1,
   "metadata": {
    "collapsed": true
   },
   "outputs": [],
   "source": [
    "import pandas as pd\n",
    "%matplotlib inline\n",
    "import matplotlib.pyplot as plt"
   ]
  },
  {
   "cell_type": "markdown",
   "metadata": {},
   "source": [
    "Load data, and downselect to features that we're interested in (either to use numerically, or to map to integer values below)"
   ]
  },
  {
   "cell_type": "code",
   "execution_count": 26,
   "metadata": {
    "collapsed": true
   },
   "outputs": [],
   "source": [
    "genes = pd.read_csv('genes.csv')\n",
    "gtex_gene_exp = pd.read_csv('gtex_gene_expression.csv')\n",
    "tox_chem = pd.read_csv('toxicogenomics_chemicals.csv')"
   ]
  },
  {
   "cell_type": "code",
   "execution_count": 27,
   "metadata": {
    "collapsed": true
   },
   "outputs": [],
   "source": [
    "genes = genes[[\"ensembl_id\",\"cytogenetic_location\",\"gene_biotype\"]]\n",
    "gtex_gene_exp = gtex_gene_exp[[\"gene_id\",\"chromosome\",\"chromosome_start\",\"chromosome_end\",\"score\",\"strand_type\"]]\n",
    "tox_chem = tox_chem[[\"gene_id\",\"chemical_id\",\"gene_forms\"]]"
   ]
  },
  {
   "cell_type": "markdown",
   "metadata": {},
   "source": [
    "Join tables on gene_id"
   ]
  },
  {
   "cell_type": "code",
   "execution_count": 49,
   "metadata": {},
   "outputs": [],
   "source": [
    "merge1 = pd.merge(genes, gtex_gene_exp, left_on = 'ensembl_id', right_on = 'gene_id')\n",
    "merge1 = merge1.drop(\"ensembl_id\",axis=1)\n",
    "merge_final = merge1.merge(tox_chem, on='gene_id')"
   ]
  },
  {
   "cell_type": "markdown",
   "metadata": {},
   "source": [
    "Create a map to extract the most \"important\" (see report) genes per organ under investigation"
   ]
  },
  {
   "cell_type": "code",
   "execution_count": 72,
   "metadata": {},
   "outputs": [],
   "source": [
    "mapping = {\n",
    "    \"Brain\": [u\"ENSG00000187325\",u\"ENSG00000196368\",u\"ENSG00000037042\",u\"ENSG00000106299\",u\"ENSG00000198900\",u\"ENSG00000162738\",u\"ENSG00000135334\",u\"ENSG00000198914\",u\"ENSG00000139352\",u\"ENSG00000188486\",u\"ENSG00000264364\",u\"ENSG00000178988\",u\"ENSG00000115461\",u\"ENSG00000163344\",u\"ENSG00000124733\",u\"ENSG00000136938\",u\"ENSG00000105887\",u\"ENSG00000102409\",u\"ENSG00000165502\"],\n",
    "    \"Breast\": [u\"ENSG00000124098\",u\"ENSG00000105887\",u\"ENSG00000163344\",u\"ENSG00000124733\",u\"ENSG00000136938\",u\"ENSG00000211663\",u\"ENSG00000124107\",u\"ENSG00000211666\",u\"ENSG00000244468\",u\"ENSG00000165502\",u\"ENSG00000115461\"],\n",
    "    \"HeadAndNeck\": [u\"ENSG00000100985\",u\"ENSG00000211666\",u\"ENSG00000136938\",u\"ENSG00000143536\",u\"ENSG00000211663\",u\"ENSG00000165502\",u\"ENSG00000124466\",u\"ENSG00000124107\",u\"ENSG00000241794\"],\n",
    "    \"Kidney\": [u\"ENSG00000124107\",u\"ENSG00000136938\",u\"ENSG00000199568\",u\"ENSG00000211666\",u\"ENSG00000211663\",u\"ENSG00000165507\",u\"ENSG00000165502\",u\"ENSG00000115461\"],\n",
    "    \"Lung\": [u\"ENSG00000211956\",u\"ENSG00000165502\",u\"ENSG00000211663\",u\"ENSG00000211666\",u\"ENSG00000124107\"],\n",
    "    \"Prostate\":[u\"ENSG00000124733\",u\"ENSG00000173334\",u\"ENSG00000136938\",u\"ENSG00000115461\",u\"ENSG00000225937\",u\"ENSG00000165502\"],\n",
    "    \"Thyroid\":[u\"ENSG00000124107\",u\"ENSG00000174460\",u\"ENSG00000165502\",u\"ENSG00000115461\"],\n",
    "    \"Uterus\":[u\"ENSG00000211666\",u\"ENSG00000165502\",u\"ENSG00000124107\"]\n",
    "}"
   ]
  },
  {
   "cell_type": "markdown",
   "metadata": {},
   "source": [
    "Select organ under investigation:"
   ]
  },
  {
   "cell_type": "code",
   "execution_count": 77,
   "metadata": {
    "collapsed": true
   },
   "outputs": [],
   "source": [
    "organ_invest = \"Thyroid\""
   ]
  },
  {
   "cell_type": "markdown",
   "metadata": {},
   "source": [
    "Get most important genes associated with that organ"
   ]
  },
  {
   "cell_type": "code",
   "execution_count": 80,
   "metadata": {},
   "outputs": [],
   "source": [
    "genes_invest = mapping[organ_invest]\n",
    "features_invest = merge_final[merge_final[\"gene_id\"].isin(genes_invest)]"
   ]
  },
  {
   "cell_type": "code",
   "execution_count": 79,
   "metadata": {},
   "outputs": [],
   "source": []
  },
  {
   "cell_type": "code",
   "execution_count": 82,
   "metadata": {},
   "outputs": [
    {
     "data": {
      "text/plain": [
       "(102,)"
      ]
     },
     "execution_count": 82,
     "metadata": {},
     "output_type": "execute_result"
    }
   ],
   "source": [
    "features_invest[\"chemical_id\"].unique().shape"
   ]
  },
  {
   "cell_type": "code",
   "execution_count": null,
   "metadata": {
    "collapsed": true
   },
   "outputs": [],
   "source": []
  },
  {
   "cell_type": "code",
   "execution_count": null,
   "metadata": {},
   "outputs": [],
   "source": []
  },
  {
   "cell_type": "code",
   "execution_count": null,
   "metadata": {},
   "outputs": [],
   "source": []
  },
  {
   "cell_type": "code",
   "execution_count": null,
   "metadata": {},
   "outputs": [],
   "source": []
  },
  {
   "cell_type": "code",
   "execution_count": null,
   "metadata": {
    "collapsed": true
   },
   "outputs": [],
   "source": []
  }
 ],
 "metadata": {
  "kernelspec": {
   "display_name": "Python 3",
   "language": "python",
   "name": "python3"
  },
  "language_info": {
   "codemirror_mode": {
    "name": "ipython",
    "version": 3
   },
   "file_extension": ".py",
   "mimetype": "text/x-python",
   "name": "python",
   "nbconvert_exporter": "python",
   "pygments_lexer": "ipython3",
   "version": "3.5.4"
  }
 },
 "nbformat": 4,
 "nbformat_minor": 2
}
