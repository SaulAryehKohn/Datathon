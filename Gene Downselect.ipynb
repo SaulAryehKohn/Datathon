{
 "cells": [
  {
   "cell_type": "markdown",
   "metadata": {},
   "source": [
    "This notebook demonstrates the power of our gene downselection according to the CTD inference score.\n",
    "\n",
    "We show how to use the gene downselection to indicate the most important chemicals to test for, whose presense is highly correlated with tissue being cancerous."
   ]
  },
  {
   "cell_type": "code",
   "execution_count": 1,
   "metadata": {
    "collapsed": true
   },
   "outputs": [],
   "source": [
    "import pandas as pd\n",
    "%matplotlib inline\n",
    "import matplotlib.pyplot as plt"
   ]
  },
  {
   "cell_type": "markdown",
   "metadata": {},
   "source": [
    "Load data, and downselect to features that we're interested in (either to use numerically, or to map to integer values below)"
   ]
  },
  {
   "cell_type": "code",
   "execution_count": 97,
   "metadata": {
    "collapsed": true
   },
   "outputs": [],
   "source": [
    "genes = pd.read_csv('genes.csv')\n",
    "gtex_gene_exp = pd.read_csv('gtex_gene_expression.csv')\n",
    "tox_chem = pd.read_csv('toxicogenomics_chemicals.csv')"
   ]
  },
  {
   "cell_type": "code",
   "execution_count": 98,
   "metadata": {},
   "outputs": [],
   "source": [
    "genes = genes[[\"ensembl_id\",\"hgnc_name\",\"cytogenetic_location\",\"gene_biotype\"]]\n",
    "gtex_gene_exp = gtex_gene_exp[[\"gene_id\",\"chromosome\",\"chromosome_start\",\"chromosome_end\",\"score\",\"strand_type\"]]\n",
    "tox_chem = tox_chem[[\"gene_id\",\"chemical_id\",\"chemical_name\",\"gene_forms\"]]"
   ]
  },
  {
   "cell_type": "markdown",
   "metadata": {},
   "source": [
    "Join tables on gene_id"
   ]
  },
  {
   "cell_type": "code",
   "execution_count": 99,
   "metadata": {},
   "outputs": [],
   "source": [
    "merge1 = pd.merge(genes, gtex_gene_exp, left_on = 'ensembl_id', right_on = 'gene_id')\n",
    "merge1 = merge1.drop(\"ensembl_id\",axis=1)\n",
    "merge_final = merge1.merge(tox_chem, on='gene_id')"
   ]
  },
  {
   "cell_type": "markdown",
   "metadata": {},
   "source": [
    "Create a map to extract the most \"important\" (see report) genes per organ under investigation"
   ]
  },
  {
   "cell_type": "code",
   "execution_count": 100,
   "metadata": {},
   "outputs": [],
   "source": [
    "mapping = {\n",
    "    \"Brain\": [u\"ENSG00000187325\",u\"ENSG00000196368\",u\"ENSG00000037042\",u\"ENSG00000106299\",u\"ENSG00000198900\",u\"ENSG00000162738\",u\"ENSG00000135334\",u\"ENSG00000198914\",u\"ENSG00000139352\",u\"ENSG00000188486\",u\"ENSG00000264364\",u\"ENSG00000178988\",u\"ENSG00000115461\",u\"ENSG00000163344\",u\"ENSG00000124733\",u\"ENSG00000136938\",u\"ENSG00000105887\",u\"ENSG00000102409\",u\"ENSG00000165502\"],\n",
    "    \"Breast\": [u\"ENSG00000124098\",u\"ENSG00000105887\",u\"ENSG00000163344\",u\"ENSG00000124733\",u\"ENSG00000136938\",u\"ENSG00000211663\",u\"ENSG00000124107\",u\"ENSG00000211666\",u\"ENSG00000244468\",u\"ENSG00000165502\",u\"ENSG00000115461\"],\n",
    "    \"HeadAndNeck\": [u\"ENSG00000100985\",u\"ENSG00000211666\",u\"ENSG00000136938\",u\"ENSG00000143536\",u\"ENSG00000211663\",u\"ENSG00000165502\",u\"ENSG00000124466\",u\"ENSG00000124107\",u\"ENSG00000241794\"],\n",
    "    \"Kidney\": [u\"ENSG00000124107\",u\"ENSG00000136938\",u\"ENSG00000199568\",u\"ENSG00000211666\",u\"ENSG00000211663\",u\"ENSG00000165507\",u\"ENSG00000165502\",u\"ENSG00000115461\"],\n",
    "    \"Lung\": [u\"ENSG00000211956\",u\"ENSG00000165502\",u\"ENSG00000211663\",u\"ENSG00000211666\",u\"ENSG00000124107\"],\n",
    "    \"Prostate\":[u\"ENSG00000124733\",u\"ENSG00000173334\",u\"ENSG00000136938\",u\"ENSG00000115461\",u\"ENSG00000225937\",u\"ENSG00000165502\"],\n",
    "    \"Thyroid\":[u\"ENSG00000124107\",u\"ENSG00000174460\",u\"ENSG00000165502\",u\"ENSG00000115461\"],\n",
    "    \"Uterus\":[u\"ENSG00000211666\",u\"ENSG00000165502\",u\"ENSG00000124107\"]\n",
    "}"
   ]
  },
  {
   "cell_type": "markdown",
   "metadata": {},
   "source": [
    "Select organ under investigation:"
   ]
  },
  {
   "cell_type": "code",
   "execution_count": 93,
   "metadata": {
    "collapsed": true
   },
   "outputs": [],
   "source": [
    "organ_invest = \"Uterus\""
   ]
  },
  {
   "cell_type": "markdown",
   "metadata": {},
   "source": [
    "Get most important genes associated with that organ"
   ]
  },
  {
   "cell_type": "code",
   "execution_count": 125,
   "metadata": {},
   "outputs": [],
   "source": [
    "genes_invest = mapping[organ_invest]\n",
    "features_invest = merge_final[merge_final[\"gene_id\"].isin(genes_invest)]\n",
    "gene_names = features_invest[\"hgnc_name\"]\n",
    "chem_names = features_invest[\"chemical_name\"]"
   ]
  },
  {
   "cell_type": "markdown",
   "metadata": {},
   "source": [
    "These genes give us clues into the most important chemicals to test for in tissue that may be cancerous"
   ]
  },
  {
   "cell_type": "code",
   "execution_count": 132,
   "metadata": {},
   "outputs": [],
   "source": [
    "unqChems = features_invest[\"chemical_name\"].unique().size\n",
    "unqGenes = len(genes_invest)\n",
    "chemsOverall= merge_final[\"chemical_name\"].unique().size\n",
    "genesOverall = merge_final[\"gene_id\"].unique().size\n",
    "\n",
    "pcnt_reduction_genes = int(genesOverall/unqGenes)\n",
    "pcnt_reduction_chems = int(chemsOverall/unqChems)"
   ]
  },
  {
   "cell_type": "markdown",
   "metadata": {},
   "source": [
    "We generate a summary report on the gene downselection:"
   ]
  },
  {
   "cell_type": "code",
   "execution_count": 135,
   "metadata": {
    "collapsed": true
   },
   "outputs": [],
   "source": [
    "report = 'You are investigating {0} tissue.\\n\\n The key genes to test for are: {1}\\n\\n This is a reduction of factor {2} x in your genetic testing.\\n\\n Chemicals that indicate a high probability of cancerous tissue are: {3}\\n\\n This is a reduction of factor {4} x out of all indicator chemicals.'.format(organ_invest,gene_names.unique(),pcnt_reduction_genes,chem_names.unique(),pcnt_reduction_chems)"
   ]
  },
  {
   "cell_type": "code",
   "execution_count": 136,
   "metadata": {},
   "outputs": [
    {
     "name": "stdout",
     "output_type": "stream",
     "text": [
      "You are investigating Uterus tissue.\n",
      "\n",
      " The key genes to test for are: ['secretory leukocyte peptidase inhibitor' 'ribosomal protein L36a like']\n",
      "\n",
      " This is a reduction of factor 582 x in your genetic testing.\n",
      "\n",
      " Chemicals that indicate a high probability of cancerous tissue are: ['Asbestos, Crocidolite' 'Aspirin' 'Estradiol' 'Carmustine'\n",
      " 'cobaltous chloride' 'Copper' 'Cyclosporine' 'Cisplatin' 'Calcitriol'\n",
      " 'Fluticasone' 'Hydrogen Peroxide' 'Iron' 'NSC 689534' 'ormosil'\n",
      " 'Particulate Matter' 'Polyethylene Glycols' 'propionaldehyde'\n",
      " 'Salmeterol Xinafoate' 'Asbestos, Serpentine' 'Silicon Dioxide' 'Smoke'\n",
      " 'temozolomide' 'Tetrachlorodibenzodioxin' 'zoledronic acid'\n",
      " \"3-(4'-hydroxy-3'-adamantylbiphenyl-4-yl)acrylic acid\" 'CD 437'\n",
      " 'chloropicrin' 'ICG 001' 'K 7174' 'Sodium Selenite']\n",
      "\n",
      " This is a reduction of factor 113 x out of all indicator chemicals.\n"
     ]
    }
   ],
   "source": [
    "print(report)"
   ]
  },
  {
   "cell_type": "code",
   "execution_count": 127,
   "metadata": {},
   "outputs": [],
   "source": []
  },
  {
   "cell_type": "code",
   "execution_count": null,
   "metadata": {},
   "outputs": [],
   "source": []
  },
  {
   "cell_type": "code",
   "execution_count": null,
   "metadata": {},
   "outputs": [],
   "source": []
  },
  {
   "cell_type": "code",
   "execution_count": null,
   "metadata": {
    "collapsed": true
   },
   "outputs": [],
   "source": []
  }
 ],
 "metadata": {
  "kernelspec": {
   "display_name": "Python 3",
   "language": "python",
   "name": "python3"
  },
  "language_info": {
   "codemirror_mode": {
    "name": "ipython",
    "version": 3
   },
   "file_extension": ".py",
   "mimetype": "text/x-python",
   "name": "python",
   "nbconvert_exporter": "python",
   "pygments_lexer": "ipython3",
   "version": "3.5.4"
  }
 },
 "nbformat": 4,
 "nbformat_minor": 2
}
