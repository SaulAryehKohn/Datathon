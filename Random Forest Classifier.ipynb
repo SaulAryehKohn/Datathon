{
 "cells": [
  {
   "cell_type": "code",
   "execution_count": 16,
   "metadata": {
    "collapsed": true
   },
   "outputs": [],
   "source": [
    "import pandas as pd\n",
    "import numpy as np\n",
    "%matplotlib inline\n",
    "import matplotlib.pyplot as plt"
   ]
  },
  {
   "cell_type": "markdown",
   "metadata": {},
   "source": [
    "Read and merge data as in the demonstration notebook (see \"Gene Downselect\")"
   ]
  },
  {
   "cell_type": "code",
   "execution_count": 2,
   "metadata": {
    "collapsed": true
   },
   "outputs": [],
   "source": [
    "genes = pd.read_csv('genes.csv')\n",
    "gtex_gene_exp = pd.read_csv('gtex_gene_expression.csv')\n",
    "tox_chem = pd.read_csv('toxicogenomics_chemicals.csv')\n",
    "\n",
    "genes = genes[[\"ensembl_id\",\"hgnc_name\",\"cytogenetic_location\",\"gene_biotype\"]]\n",
    "gtex_gene_exp = gtex_gene_exp[[\"gene_id\",\"chromosome\",\"chromosome_start\",\"chromosome_end\",\"score\",\"strand_type\"]]\n",
    "tox_chem = tox_chem[[\"gene_id\",\"chemical_id\",\"chemical_name\",\"gene_forms\"]]\n",
    "\n",
    "merge1 = pd.merge(genes, gtex_gene_exp, left_on = 'ensembl_id', right_on = 'gene_id')\n",
    "merge1 = merge1.drop(\"ensembl_id\",axis=1)\n",
    "merge_final = merge1.merge(tox_chem, on='gene_id')"
   ]
  },
  {
   "cell_type": "markdown",
   "metadata": {},
   "source": [
    "Get the 340 most important genes across all organs according to our metric (see report) and join those to our feature table"
   ]
  },
  {
   "cell_type": "code",
   "execution_count": 7,
   "metadata": {
    "collapsed": true
   },
   "outputs": [],
   "source": [
    "importantGenes = pd.read_csv('selected_gene_disease.csv')\n",
    "organGeneRelation = pd.read_csv('organ_gene_relation.csv')"
   ]
  },
  {
   "cell_type": "code",
   "execution_count": 14,
   "metadata": {},
   "outputs": [
    {
     "data": {
      "text/html": [
       "<div>\n",
       "<style>\n",
       "    .dataframe thead tr:only-child th {\n",
       "        text-align: right;\n",
       "    }\n",
       "\n",
       "    .dataframe thead th {\n",
       "        text-align: left;\n",
       "    }\n",
       "\n",
       "    .dataframe tbody tr th {\n",
       "        vertical-align: top;\n",
       "    }\n",
       "</style>\n",
       "<table border=\"1\" class=\"dataframe\">\n",
       "  <thead>\n",
       "    <tr style=\"text-align: right;\">\n",
       "      <th></th>\n",
       "      <th>hgnc_name</th>\n",
       "      <th>cytogenetic_location</th>\n",
       "      <th>gene_biotype</th>\n",
       "      <th>gene_id</th>\n",
       "      <th>chromosome</th>\n",
       "      <th>chromosome_start</th>\n",
       "      <th>chromosome_end</th>\n",
       "      <th>score</th>\n",
       "      <th>strand_type</th>\n",
       "      <th>chemical_id</th>\n",
       "      <th>chemical_name</th>\n",
       "      <th>gene_forms</th>\n",
       "      <th>Organ</th>\n",
       "      <th>not_causal</th>\n",
       "      <th>Avg. Fpkm Expression</th>\n",
       "    </tr>\n",
       "  </thead>\n",
       "  <tbody>\n",
       "    <tr>\n",
       "      <th>0</th>\n",
       "      <td>insulin like growth factor binding protein 5</td>\n",
       "      <td>2q35</td>\n",
       "      <td>protein_coding</td>\n",
       "      <td>ENSG00000115461</td>\n",
       "      <td>chr2</td>\n",
       "      <td>216672104</td>\n",
       "      <td>216695525</td>\n",
       "      <td>654</td>\n",
       "      <td>-</td>\n",
       "      <td>C495626</td>\n",
       "      <td>14-deoxy-11,12-didehydroandrographolide</td>\n",
       "      <td>mRNA</td>\n",
       "      <td>Brain</td>\n",
       "      <td>False</td>\n",
       "      <td>48.99258794</td>\n",
       "    </tr>\n",
       "    <tr>\n",
       "      <th>1</th>\n",
       "      <td>insulin like growth factor binding protein 5</td>\n",
       "      <td>2q35</td>\n",
       "      <td>protein_coding</td>\n",
       "      <td>ENSG00000115461</td>\n",
       "      <td>chr2</td>\n",
       "      <td>216672104</td>\n",
       "      <td>216695525</td>\n",
       "      <td>654</td>\n",
       "      <td>-</td>\n",
       "      <td>C495626</td>\n",
       "      <td>14-deoxy-11,12-didehydroandrographolide</td>\n",
       "      <td>mRNA</td>\n",
       "      <td>Breast</td>\n",
       "      <td>False</td>\n",
       "      <td>215.7425602</td>\n",
       "    </tr>\n",
       "    <tr>\n",
       "      <th>2</th>\n",
       "      <td>insulin like growth factor binding protein 5</td>\n",
       "      <td>2q35</td>\n",
       "      <td>protein_coding</td>\n",
       "      <td>ENSG00000115461</td>\n",
       "      <td>chr2</td>\n",
       "      <td>216672104</td>\n",
       "      <td>216695525</td>\n",
       "      <td>654</td>\n",
       "      <td>-</td>\n",
       "      <td>C495626</td>\n",
       "      <td>14-deoxy-11,12-didehydroandrographolide</td>\n",
       "      <td>mRNA</td>\n",
       "      <td>Kidney</td>\n",
       "      <td>False</td>\n",
       "      <td>271.259913</td>\n",
       "    </tr>\n",
       "    <tr>\n",
       "      <th>3</th>\n",
       "      <td>insulin like growth factor binding protein 5</td>\n",
       "      <td>2q35</td>\n",
       "      <td>protein_coding</td>\n",
       "      <td>ENSG00000115461</td>\n",
       "      <td>chr2</td>\n",
       "      <td>216672104</td>\n",
       "      <td>216695525</td>\n",
       "      <td>654</td>\n",
       "      <td>-</td>\n",
       "      <td>C495626</td>\n",
       "      <td>14-deoxy-11,12-didehydroandrographolide</td>\n",
       "      <td>mRNA</td>\n",
       "      <td>Prostate</td>\n",
       "      <td>False</td>\n",
       "      <td>84.33054034</td>\n",
       "    </tr>\n",
       "    <tr>\n",
       "      <th>4</th>\n",
       "      <td>insulin like growth factor binding protein 5</td>\n",
       "      <td>2q35</td>\n",
       "      <td>protein_coding</td>\n",
       "      <td>ENSG00000115461</td>\n",
       "      <td>chr2</td>\n",
       "      <td>216672104</td>\n",
       "      <td>216695525</td>\n",
       "      <td>654</td>\n",
       "      <td>-</td>\n",
       "      <td>C495626</td>\n",
       "      <td>14-deoxy-11,12-didehydroandrographolide</td>\n",
       "      <td>mRNA</td>\n",
       "      <td>Thyroid</td>\n",
       "      <td>False</td>\n",
       "      <td>375.8365323</td>\n",
       "    </tr>\n",
       "  </tbody>\n",
       "</table>\n",
       "</div>"
      ],
      "text/plain": [
       "                                      hgnc_name cytogenetic_location  \\\n",
       "0  insulin like growth factor binding protein 5                 2q35   \n",
       "1  insulin like growth factor binding protein 5                 2q35   \n",
       "2  insulin like growth factor binding protein 5                 2q35   \n",
       "3  insulin like growth factor binding protein 5                 2q35   \n",
       "4  insulin like growth factor binding protein 5                 2q35   \n",
       "\n",
       "     gene_biotype          gene_id chromosome  chromosome_start  \\\n",
       "0  protein_coding  ENSG00000115461       chr2         216672104   \n",
       "1  protein_coding  ENSG00000115461       chr2         216672104   \n",
       "2  protein_coding  ENSG00000115461       chr2         216672104   \n",
       "3  protein_coding  ENSG00000115461       chr2         216672104   \n",
       "4  protein_coding  ENSG00000115461       chr2         216672104   \n",
       "\n",
       "   chromosome_end  score strand_type chemical_id  \\\n",
       "0       216695525    654           -     C495626   \n",
       "1       216695525    654           -     C495626   \n",
       "2       216695525    654           -     C495626   \n",
       "3       216695525    654           -     C495626   \n",
       "4       216695525    654           -     C495626   \n",
       "\n",
       "                             chemical_name gene_forms     Organ  not_causal  \\\n",
       "0  14-deoxy-11,12-didehydroandrographolide       mRNA     Brain       False   \n",
       "1  14-deoxy-11,12-didehydroandrographolide       mRNA    Breast       False   \n",
       "2  14-deoxy-11,12-didehydroandrographolide       mRNA    Kidney       False   \n",
       "3  14-deoxy-11,12-didehydroandrographolide       mRNA  Prostate       False   \n",
       "4  14-deoxy-11,12-didehydroandrographolide       mRNA   Thyroid       False   \n",
       "\n",
       "  Avg. Fpkm Expression  \n",
       "0          48.99258794  \n",
       "1          215.7425602  \n",
       "2           271.259913  \n",
       "3          84.33054034  \n",
       "4          375.8365323  "
      ]
     },
     "execution_count": 14,
     "metadata": {},
     "output_type": "execute_result"
    }
   ],
   "source": [
    "merge_relation = pd.merge(merge_final,organGeneRelation,left_on='gene_id',right_on=\"Gene Id\")\n",
    "merge_relation = merge_relation.drop(\"Gene Id\",axis=1)\n",
    "merge_relation.head()"
   ]
  },
  {
   "cell_type": "markdown",
   "metadata": {},
   "source": [
    "Convert non-numerical data to integers"
   ]
  },
  {
   "cell_type": "code",
   "execution_count": 17,
   "metadata": {},
   "outputs": [],
   "source": [
    "def handle_non_numerical_data(df):\n",
    "    columns = df.columns.values\n",
    "\n",
    "    for column in columns:\n",
    "        text_digit_vals = {}\n",
    "        def convert_to_int(val):\n",
    "            return text_digit_vals[val]\n",
    "        \n",
    "        if df[column].dtype != np.int64 and df[column].dtype != np.float64:\n",
    "            column_contents = df[column].values.tolist()\n",
    "            #finding just the uniques:\n",
    "            unique_elements = set(column_contents)\n",
    "            x = 0\n",
    "            for unique in unique_elements:\n",
    "                if unique not in text_digit_vals:\n",
    "                    # creating dict that contains new id per unique string\n",
    "                    text_digit_vals[unique] = x\n",
    "                    x+=1\n",
    "            # map the new \"id\" value to replace the string\n",
    "            df[column] = list(map(convert_to_int,df[column]))   \n",
    "            \n",
    "    return df\n",
    "\n",
    "merge_relation_handled = handle_non_numerical_data(merge_relation)"
   ]
  },
  {
   "cell_type": "code",
   "execution_count": 19,
   "metadata": {},
   "outputs": [
    {
     "data": {
      "text/html": [
       "<div>\n",
       "<style>\n",
       "    .dataframe thead tr:only-child th {\n",
       "        text-align: right;\n",
       "    }\n",
       "\n",
       "    .dataframe thead th {\n",
       "        text-align: left;\n",
       "    }\n",
       "\n",
       "    .dataframe tbody tr th {\n",
       "        vertical-align: top;\n",
       "    }\n",
       "</style>\n",
       "<table border=\"1\" class=\"dataframe\">\n",
       "  <thead>\n",
       "    <tr style=\"text-align: right;\">\n",
       "      <th></th>\n",
       "      <th>hgnc_name</th>\n",
       "      <th>cytogenetic_location</th>\n",
       "      <th>gene_biotype</th>\n",
       "      <th>gene_id</th>\n",
       "      <th>chromosome</th>\n",
       "      <th>chromosome_start</th>\n",
       "      <th>chromosome_end</th>\n",
       "      <th>score</th>\n",
       "      <th>strand_type</th>\n",
       "      <th>chemical_id</th>\n",
       "      <th>chemical_name</th>\n",
       "      <th>gene_forms</th>\n",
       "      <th>Organ</th>\n",
       "      <th>not_causal</th>\n",
       "      <th>Avg. Fpkm Expression</th>\n",
       "    </tr>\n",
       "  </thead>\n",
       "  <tbody>\n",
       "    <tr>\n",
       "      <th>0</th>\n",
       "      <td>0</td>\n",
       "      <td>8</td>\n",
       "      <td>0</td>\n",
       "      <td>0</td>\n",
       "      <td>7</td>\n",
       "      <td>216672104</td>\n",
       "      <td>216695525</td>\n",
       "      <td>654</td>\n",
       "      <td>1</td>\n",
       "      <td>436</td>\n",
       "      <td>81</td>\n",
       "      <td>4</td>\n",
       "      <td>6</td>\n",
       "      <td>0</td>\n",
       "      <td>46</td>\n",
       "    </tr>\n",
       "    <tr>\n",
       "      <th>1</th>\n",
       "      <td>0</td>\n",
       "      <td>8</td>\n",
       "      <td>0</td>\n",
       "      <td>0</td>\n",
       "      <td>7</td>\n",
       "      <td>216672104</td>\n",
       "      <td>216695525</td>\n",
       "      <td>654</td>\n",
       "      <td>1</td>\n",
       "      <td>436</td>\n",
       "      <td>81</td>\n",
       "      <td>4</td>\n",
       "      <td>5</td>\n",
       "      <td>0</td>\n",
       "      <td>7</td>\n",
       "    </tr>\n",
       "    <tr>\n",
       "      <th>2</th>\n",
       "      <td>0</td>\n",
       "      <td>8</td>\n",
       "      <td>0</td>\n",
       "      <td>0</td>\n",
       "      <td>7</td>\n",
       "      <td>216672104</td>\n",
       "      <td>216695525</td>\n",
       "      <td>654</td>\n",
       "      <td>1</td>\n",
       "      <td>436</td>\n",
       "      <td>81</td>\n",
       "      <td>4</td>\n",
       "      <td>3</td>\n",
       "      <td>0</td>\n",
       "      <td>51</td>\n",
       "    </tr>\n",
       "    <tr>\n",
       "      <th>3</th>\n",
       "      <td>0</td>\n",
       "      <td>8</td>\n",
       "      <td>0</td>\n",
       "      <td>0</td>\n",
       "      <td>7</td>\n",
       "      <td>216672104</td>\n",
       "      <td>216695525</td>\n",
       "      <td>654</td>\n",
       "      <td>1</td>\n",
       "      <td>436</td>\n",
       "      <td>81</td>\n",
       "      <td>4</td>\n",
       "      <td>1</td>\n",
       "      <td>0</td>\n",
       "      <td>13</td>\n",
       "    </tr>\n",
       "    <tr>\n",
       "      <th>4</th>\n",
       "      <td>0</td>\n",
       "      <td>8</td>\n",
       "      <td>0</td>\n",
       "      <td>0</td>\n",
       "      <td>7</td>\n",
       "      <td>216672104</td>\n",
       "      <td>216695525</td>\n",
       "      <td>654</td>\n",
       "      <td>1</td>\n",
       "      <td>436</td>\n",
       "      <td>81</td>\n",
       "      <td>4</td>\n",
       "      <td>4</td>\n",
       "      <td>0</td>\n",
       "      <td>14</td>\n",
       "    </tr>\n",
       "  </tbody>\n",
       "</table>\n",
       "</div>"
      ],
      "text/plain": [
       "   hgnc_name  cytogenetic_location  gene_biotype  gene_id  chromosome  \\\n",
       "0          0                     8             0        0           7   \n",
       "1          0                     8             0        0           7   \n",
       "2          0                     8             0        0           7   \n",
       "3          0                     8             0        0           7   \n",
       "4          0                     8             0        0           7   \n",
       "\n",
       "   chromosome_start  chromosome_end  score  strand_type  chemical_id  \\\n",
       "0         216672104       216695525    654            1          436   \n",
       "1         216672104       216695525    654            1          436   \n",
       "2         216672104       216695525    654            1          436   \n",
       "3         216672104       216695525    654            1          436   \n",
       "4         216672104       216695525    654            1          436   \n",
       "\n",
       "   chemical_name  gene_forms  Organ  not_causal  Avg. Fpkm Expression  \n",
       "0             81           4      6           0                    46  \n",
       "1             81           4      5           0                     7  \n",
       "2             81           4      3           0                    51  \n",
       "3             81           4      1           0                    13  \n",
       "4             81           4      4           0                    14  "
      ]
     },
     "execution_count": 19,
     "metadata": {},
     "output_type": "execute_result"
    }
   ],
   "source": [
    "merge_relation_handled.head()"
   ]
  },
  {
   "cell_type": "markdown",
   "metadata": {},
   "source": [
    "Create training and testing sets. We seek to predict the organ that is cancerous, given the training features below.\n",
    "\n",
    "We use the Gene IDs, Chromosome, Score (related to the RPKM), Chemical ID (from the disease), the average FPKM for that Gene ID, and whether or not it passes out \"causality\" metric (explained in the report).\n",
    "\n",
    "We use a 80-20 train-test split."
   ]
  },
  {
   "cell_type": "code",
   "execution_count": 33,
   "metadata": {},
   "outputs": [],
   "source": [
    "y = merge_relation_handled[\"Organ\"]\n",
    "X = merge_relation_handled[[\"gene_id\",\"chromosome\",\"score\",\"chemical_id\",'Avg. Fpkm Expression',\"not_causal\"]]\n",
    "\n",
    "from sklearn.model_selection import train_test_split\n",
    "from sklearn.model_selection import cross_val_score\n",
    "\n",
    "Xtrain, Xtest, ytrain, ytest = train_test_split(X,y,test_size=0.2)"
   ]
  },
  {
   "cell_type": "markdown",
   "metadata": {},
   "source": [
    "Create a Random Forest Classifier for the predictive modelling."
   ]
  },
  {
   "cell_type": "code",
   "execution_count": 34,
   "metadata": {},
   "outputs": [
    {
     "data": {
      "text/plain": [
       "RandomForestClassifier(bootstrap=True, class_weight=None, criterion='gini',\n",
       "            max_depth=None, max_features='auto', max_leaf_nodes=None,\n",
       "            min_impurity_split=1e-07, min_samples_leaf=1,\n",
       "            min_samples_split=8, min_weight_fraction_leaf=0.0,\n",
       "            n_estimators=50, n_jobs=1, oob_score=True, random_state=None,\n",
       "            verbose=0, warm_start=False)"
      ]
     },
     "execution_count": 34,
     "metadata": {},
     "output_type": "execute_result"
    }
   ],
   "source": [
    "from sklearn.ensemble import RandomForestClassifier\n",
    "clf = RandomForestClassifier(criterion='gini',\n",
    "                             n_estimators=50,\n",
    "                             min_samples_split=8,\n",
    "                             min_samples_leaf=1,\n",
    "                             max_features='auto',\n",
    "                             oob_score=True)\n",
    "clf.fit(Xtrain,ytrain)"
   ]
  },
  {
   "cell_type": "code",
   "execution_count": 36,
   "metadata": {},
   "outputs": [],
   "source": [
    "pred = clf.predict(Xtest)"
   ]
  },
  {
   "cell_type": "markdown",
   "metadata": {},
   "source": [
    "Now we've trained our Random Forest Classifier and used it to predict which organ is cancerous given the testing data. How well did we do?"
   ]
  },
  {
   "cell_type": "code",
   "execution_count": 46,
   "metadata": {},
   "outputs": [
    {
     "name": "stdout",
     "output_type": "stream",
     "text": [
      "0.995652173913\n"
     ]
    }
   ],
   "source": [
    "accuracy = clf.score(Xtest,ytest)\n",
    "print(accuracy)"
   ]
  },
  {
   "cell_type": "markdown",
   "metadata": {},
   "source": [
    "AWESOME! Almost 100% accuracy!! What led to our success?"
   ]
  },
  {
   "cell_type": "code",
   "execution_count": 44,
   "metadata": {},
   "outputs": [
    {
     "name": "stdout",
     "output_type": "stream",
     "text": [
      "Index(['gene_id', 'chromosome', 'score', 'chemical_id', 'Avg. Fpkm Expression',\n",
      "       'not_causal'],\n",
      "      dtype='object')\n"
     ]
    },
    {
     "data": {
      "text/plain": [
       "array([ 0.13291542,  0.17129129,  0.26637655,  0.01293843,  0.37804793,\n",
       "        0.03843037])"
      ]
     },
     "execution_count": 44,
     "metadata": {},
     "output_type": "execute_result"
    }
   ],
   "source": [
    "print(Xtrain.columns)\n",
    "clf.feature_importances_"
   ]
  },
  {
   "cell_type": "markdown",
   "metadata": {},
   "source": [
    "It appears that the most important metrics for predicting which organ is cancerous are the FPKM and score (related to RPKM). The chromosome and gene are of secondary importance, followed by our binary causality metric and finally the chemical ID."
   ]
  },
  {
   "cell_type": "code",
   "execution_count": null,
   "metadata": {
    "collapsed": true
   },
   "outputs": [],
   "source": []
  }
 ],
 "metadata": {
  "kernelspec": {
   "display_name": "Python 3",
   "language": "python",
   "name": "python3"
  },
  "language_info": {
   "codemirror_mode": {
    "name": "ipython",
    "version": 3
   },
   "file_extension": ".py",
   "mimetype": "text/x-python",
   "name": "python",
   "nbconvert_exporter": "python",
   "pygments_lexer": "ipython3",
   "version": "3.5.4"
  }
 },
 "nbformat": 4,
 "nbformat_minor": 2
}
